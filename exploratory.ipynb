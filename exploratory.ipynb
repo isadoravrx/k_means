{
 "cells": [
  {
   "cell_type": "code",
   "execution_count": 13,
   "id": "d471ae35",
   "metadata": {},
   "outputs": [],
   "source": [
    "from ucimlrepo import fetch_ucirepo \n",
    "from sklearn.cluster import KMeans\n",
    "import numpy as np\n",
    "from features.columns import CompositeTranformer\n",
    "  \n",
    "# fetch dataset \n",
    "estimation_of_obesity_levels_based_on_eating_habits_and_physical_condition = fetch_ucirepo(id=544) \n",
    "X = estimation_of_obesity_levels_based_on_eating_habits_and_physical_condition.data.features\n",
    "y = estimation_of_obesity_levels_based_on_eating_habits_and_physical_condition.data.targets \n"
   ]
  },
  {
   "cell_type": "code",
   "execution_count": 14,
   "id": "9353e06a",
   "metadata": {},
   "outputs": [
    {
     "name": "stdout",
     "output_type": "stream",
     "text": [
      "      Gender        Age    Height      Weight family_history_with_overweight  \\\n",
      "0     Female  21.000000  1.620000   64.000000                            yes   \n",
      "1     Female  21.000000  1.520000   56.000000                            yes   \n",
      "2       Male  23.000000  1.800000   77.000000                            yes   \n",
      "3       Male  27.000000  1.800000   87.000000                             no   \n",
      "4       Male  22.000000  1.780000   89.800000                             no   \n",
      "...      ...        ...       ...         ...                            ...   \n",
      "2106  Female  20.976842  1.710730  131.408528                            yes   \n",
      "2107  Female  21.982942  1.748584  133.742943                            yes   \n",
      "2108  Female  22.524036  1.752206  133.689352                            yes   \n",
      "2109  Female  24.361936  1.739450  133.346641                            yes   \n",
      "2110  Female  23.664709  1.738836  133.472641                            yes   \n",
      "\n",
      "     FAVC  FCVC  NCP       CAEC SMOKE      CH2O  SCC       FAF       TUE  \\\n",
      "0      no   2.0  3.0  Sometimes    no  2.000000   no  0.000000  1.000000   \n",
      "1      no   3.0  3.0  Sometimes   yes  3.000000  yes  3.000000  0.000000   \n",
      "2      no   2.0  3.0  Sometimes    no  2.000000   no  2.000000  1.000000   \n",
      "3      no   3.0  3.0  Sometimes    no  2.000000   no  2.000000  0.000000   \n",
      "4      no   2.0  1.0  Sometimes    no  2.000000   no  0.000000  0.000000   \n",
      "...   ...   ...  ...        ...   ...       ...  ...       ...       ...   \n",
      "2106  yes   3.0  3.0  Sometimes    no  1.728139   no  1.676269  0.906247   \n",
      "2107  yes   3.0  3.0  Sometimes    no  2.005130   no  1.341390  0.599270   \n",
      "2108  yes   3.0  3.0  Sometimes    no  2.054193   no  1.414209  0.646288   \n",
      "2109  yes   3.0  3.0  Sometimes    no  2.852339   no  1.139107  0.586035   \n",
      "2110  yes   3.0  3.0  Sometimes    no  2.863513   no  1.026452  0.714137   \n",
      "\n",
      "            CALC                 MTRANS  \n",
      "0             no  Public_Transportation  \n",
      "1      Sometimes  Public_Transportation  \n",
      "2     Frequently  Public_Transportation  \n",
      "3     Frequently                Walking  \n",
      "4      Sometimes  Public_Transportation  \n",
      "...          ...                    ...  \n",
      "2106   Sometimes  Public_Transportation  \n",
      "2107   Sometimes  Public_Transportation  \n",
      "2108   Sometimes  Public_Transportation  \n",
      "2109   Sometimes  Public_Transportation  \n",
      "2110   Sometimes  Public_Transportation  \n",
      "\n",
      "[2111 rows x 16 columns]\n",
      "               NObeyesdad\n",
      "0           Normal_Weight\n",
      "1           Normal_Weight\n",
      "2           Normal_Weight\n",
      "3      Overweight_Level_I\n",
      "4     Overweight_Level_II\n",
      "...                   ...\n",
      "2106     Obesity_Type_III\n",
      "2107     Obesity_Type_III\n",
      "2108     Obesity_Type_III\n",
      "2109     Obesity_Type_III\n",
      "2110     Obesity_Type_III\n",
      "\n",
      "[2111 rows x 1 columns]\n"
     ]
    }
   ],
   "source": [
    "print(X)\n",
    "print(y)"
   ]
  },
  {
   "cell_type": "code",
   "execution_count": 15,
   "id": "e7a89ac6",
   "metadata": {},
   "outputs": [],
   "source": [
    "columns_cat = ['Gender', 'family_history_with_overweight', 'FAVC', 'CAEC', 'SMOKE', 'SCC' , 'CALC', 'MTRANS']\n",
    "columns_num = X.columns.difference(columns_cat)\n",
    "\n",
    "\n",
    "tranformer = CompositeTranformer( numeric_features=columns_num, categorical_features=columns_cat)\n",
    "\n",
    "X = tranformer.transform(X)"
   ]
  },
  {
   "cell_type": "code",
   "execution_count": 16,
   "id": "cd4ac902",
   "metadata": {},
   "outputs": [
    {
     "data": {
      "text/plain": [
       "array([1, 5, 6, ..., 3, 3, 3], shape=(2111,), dtype=int32)"
      ]
     },
     "execution_count": 16,
     "metadata": {},
     "output_type": "execute_result"
    }
   ],
   "source": [
    "kmeans = KMeans(n_clusters=7, random_state=0, n_init=\"auto\")\n",
    "kmeans.fit(X)\n",
    "kmeans.labels_"
   ]
  },
  {
   "cell_type": "code",
   "execution_count": null,
   "id": "d81b5a92",
   "metadata": {},
   "outputs": [],
   "source": []
  }
 ],
 "metadata": {
  "language_info": {
   "name": "python"
  }
 },
 "nbformat": 4,
 "nbformat_minor": 5
}
